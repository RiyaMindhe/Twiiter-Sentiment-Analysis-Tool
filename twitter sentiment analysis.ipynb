{
 "cells": [
  {
   "cell_type": "code",
   "execution_count": 56,
   "id": "b0751364",
   "metadata": {},
   "outputs": [
    {
     "name": "stdout",
     "output_type": "stream",
     "text": [
      "The Sentiment Predicted by the Model is: Positive\n",
      "The Sentiment Predicted by the Model is: Positive\n",
      "The Sentiment Predicted by the Model is: Negative\n",
      "The Sentiment Predicted by the Model is: Negative\n",
      "The Sentiment Predicted by the Model is: Negative\n"
     ]
    }
   ],
   "source": [
    "import nltk\n",
    "from sklearn.model_selection import train_test_split\n",
    "from sklearn.feature_extraction.text import TfidfVectorizer\n",
    "from sklearn.linear_model import LogisticRegression\n",
    "\n",
    "nltk.download('twitter_samples',quiet=True)\n",
    "positive_tweets = twitter_samples.strings('positive_tweets.json')\n",
    "negative_tweets = twitter_samples.strings('negative_tweets.json')\n",
    "tweets = positive_tweets + negative_tweets\n",
    "labels = ['Positive'] * len(positive_tweets) + ['Negative'] * len(negative_tweets)\n",
    "\n",
    "#Split data into training and test sets\n",
    "train_tweets, test_tweets, train_labels, test_labels = train_test_split(tweets, labels, test_size=0.25, random_state=42)\n",
    "\n",
    "#begin text vectorization\n",
    "vectorizer = TfidfVectorizer(ngram_range=(1, 3), min_df=5, max_df=0.8)\n",
    "\n",
    "#fit and transform the training data\n",
    "train_vectors = vectorizer.fit_transform(train_tweets)\n",
    "\n",
    "#transform the test data\n",
    "test_vectors = vectorizer.transform(test_tweets)\n",
    "\n",
    "#initialize the logistic regression classifier\n",
    "classifier = LogisticRegression()\n",
    "\n",
    "#train the classifier\n",
    "classifier.fit(train_vectors, train_labels)\n",
    "\n",
    "#test your results with the sample tweets below\n",
    "sample_tweets = [\"Absolutely loving the new update! Everything runs so smoothly and efficiently now. Great job!👍\",\n",
    "                 \"Had an amazing time at the beach today with friends. The weather was perfect! #blessed\",\n",
    "                 \"Extremely disappointed with the service at the restaurant tonight. Waited over an hour and still got the order wrong.\",\n",
    "                 \"Feeling really let down by the season finale. It was so rushed and left too many unanswered questions.😔\",\n",
    "                 \"My phone keeps crashing after the latest update. So frustrating dealing with these glitches!😠\"]\n",
    "new_vectors = vectorizer.transform(sample_tweets)\n",
    "predictions = classifier.predict(new_vectors)\n",
    "\n",
    "#test the function\n",
    "for i, tweet in enumerate(sample_tweets):\n",
    "    print(f\"The Sentiment Predicted by the Model is: {predictions[i]}\")"
   ]
  }
 ],
 "metadata": {
  "kernelspec": {
   "display_name": "Python 3 (ipykernel)",
   "language": "python",
   "name": "python3"
  },
  "language_info": {
   "codemirror_mode": {
    "name": "ipython",
    "version": 3
   },
   "file_extension": ".py",
   "mimetype": "text/x-python",
   "name": "python",
   "nbconvert_exporter": "python",
   "pygments_lexer": "ipython3",
   "version": "3.11.5"
  }
 },
 "nbformat": 4,
 "nbformat_minor": 5
}
